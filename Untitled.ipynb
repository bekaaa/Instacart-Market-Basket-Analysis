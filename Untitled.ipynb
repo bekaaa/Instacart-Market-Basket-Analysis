{
 "cells": [
  {
   "cell_type": "code",
   "execution_count": 31,
   "metadata": {
    "collapsed": true
   },
   "outputs": [],
   "source": [
    "import pandas as pd\n",
    "import numpy as np\n",
    "import pickle\n",
    "import pandas_profiling as pd_prof\n",
    "from sklearn.preprocessing import scale, MinMaxScaler\n",
    "\n",
    "\n",
    "pd.options.mode.chained_assignment = 'warn' \n",
    "\n",
    "from IPython.core.interactiveshell import InteractiveShell\n",
    "InteractiveShell.ast_node_interactivity = 'last_expr'"
   ]
  },
  {
   "cell_type": "code",
   "execution_count": 76,
   "metadata": {
    "collapsed": true
   },
   "outputs": [],
   "source": [
    "# store data files in  variables. all named DA_$file_name\n",
    "data_files = [#\"aisles\",\n",
    "               # \"departments\",\n",
    "               # \"order_products__prior\",\n",
    "                #\"orders\",\n",
    "                \"products\",\n",
    "                \"sample_submission\"\n",
    "                ]\n",
    "for file_name in data_files :\n",
    "    exec( \"DA_{0} = pd.read_csv('./data/{0}.csv')\".format(file_name) )\n"
   ]
  },
  {
   "cell_type": "code",
   "execution_count": 50,
   "metadata": {
    "collapsed": true
   },
   "outputs": [],
   "source": [
    "with open('./data/pickles/product_freq.pkl', 'rb') as f:\n",
    "    products_freq = pickle.load(f);"
   ]
  },
  {
   "cell_type": "code",
   "execution_count": 7,
   "metadata": {
    "collapsed": true
   },
   "outputs": [],
   "source": [
    "# using pandas profile Report lib. \n",
    "#profile = pd_prof.ProfileReport(DA_departments)\n",
    "#profile.to_file('./departments_profile_report.html')"
   ]
  },
  {
   "cell_type": "code",
   "execution_count": 3,
   "metadata": {},
   "outputs": [
    {
     "data": {
      "text/plain": [
       "array([[ 0.,  0.,  0., ...,  0.,  0.,  0.],\n",
       "       [ 1.,  1.,  0., ...,  4.,  3.,  3.],\n",
       "       [ 0.,  0.,  0., ...,  0.,  0.,  0.],\n",
       "       ..., \n",
       "       [ 0.,  0.,  0., ...,  1.,  1.,  0.],\n",
       "       [ 0.,  0.,  0., ...,  0.,  0.,  0.],\n",
       "       [ 0.,  0.,  0., ...,  0.,  0.,  0.]])"
      ]
     },
     "execution_count": 3,
     "metadata": {},
     "output_type": "execute_result"
    }
   ],
   "source": [
    "products_freq"
   ]
  },
  {
   "cell_type": "code",
   "execution_count": null,
   "metadata": {
    "collapsed": true
   },
   "outputs": [],
   "source": []
  },
  {
   "cell_type": "code",
   "execution_count": 104,
   "metadata": {},
   "outputs": [],
   "source": [
    "tmp = np.array([[1, 5, 1000, 2],[0, 0, 2, 0],[3, 3, 3, 3]],dtype=float).transpose()"
   ]
  },
  {
   "cell_type": "code",
   "execution_count": 18,
   "metadata": {},
   "outputs": [
    {
     "data": {
      "text/plain": [
       "array([[ 1,  0,  3],\n",
       "       [ 5,  0,  3],\n",
       "       [10,  2,  3],\n",
       "       [ 2,  0,  3]])"
      ]
     },
     "execution_count": 18,
     "metadata": {},
     "output_type": "execute_result"
    }
   ],
   "source": [
    "tmp"
   ]
  },
  {
   "cell_type": "code",
   "execution_count": 30,
   "metadata": {},
   "outputs": [
    {
     "data": {
      "text/plain": [
       "array([[ 0.28571429,  0.        ,  3.        ],\n",
       "       [ 1.42857143,  0.        ,  3.        ],\n",
       "       [ 2.85714286,  2.30940108,  3.        ],\n",
       "       [ 0.57142857,  0.        ,  3.        ]])"
      ]
     },
     "execution_count": 30,
     "metadata": {},
     "output_type": "execute_result"
    }
   ],
   "source": [
    "scale(tmp,axis=0,with_mean=0,with_std=1)"
   ]
  },
  {
   "cell_type": "code",
   "execution_count": 43,
   "metadata": {},
   "outputs": [
    {
     "name": "stderr",
     "output_type": "stream",
     "text": [
      "/usr/lib64/python2.7/site-packages/sklearn/preprocessing/data.py:321: DeprecationWarning: Passing 1d arrays as data is deprecated in 0.17 and will raise ValueError in 0.19. Reshape your data either using X.reshape(-1, 1) if your data has a single feature or X.reshape(1, -1) if it contains a single sample.\n",
      "  warnings.warn(DEPRECATION_MSG_1D, DeprecationWarning)\n",
      "/usr/lib64/python2.7/site-packages/sklearn/preprocessing/data.py:356: DeprecationWarning: Passing 1d arrays as data is deprecated in 0.17 and will raise ValueError in 0.19. Reshape your data either using X.reshape(-1, 1) if your data has a single feature or X.reshape(1, -1) if it contains a single sample.\n",
      "  warnings.warn(DEPRECATION_MSG_1D, DeprecationWarning)\n"
     ]
    },
    {
     "data": {
      "text/plain": [
       "array([ 0.,  0.,  0.,  0.])"
      ]
     },
     "execution_count": 43,
     "metadata": {},
     "output_type": "execute_result"
    }
   ],
   "source": [
    "scaler = MinMaxScaler(feature_range=[0,2])\n",
    "scaler.fit_transform(tmp[:,2])"
   ]
  },
  {
   "cell_type": "code",
   "execution_count": null,
   "metadata": {},
   "outputs": [],
   "source": []
  },
  {
   "cell_type": "code",
   "execution_count": 108,
   "metadata": {},
   "outputs": [
    {
     "data": {
      "text/plain": [
       "array([[ 0.001,  0.   ,  1.   ],\n",
       "       [ 0.005,  0.   ,  1.   ],\n",
       "       [ 1.   ,  1.   ,  1.   ],\n",
       "       [ 0.002,  0.   ,  1.   ]])"
      ]
     },
     "execution_count": 108,
     "metadata": {},
     "output_type": "execute_result"
    }
   ],
   "source": [
    "min_ = 0;\n",
    "tmp2 = tmp.copy()\n",
    "for i in range(0,3):\n",
    "    max_ = tmp[:,i].max()\n",
    "    mean = tmp[:,i].min()\n",
    "    tmp2[:,i] = (tmp[:,i]  ) / max_\n",
    "tmp2\n",
    "    "
   ]
  },
  {
   "cell_type": "code",
   "execution_count": 117,
   "metadata": {},
   "outputs": [
    {
     "data": {
      "text/plain": [
       "array([[  1.,   1.,   0.,   0.,   0.,   1.,   1.,   4.,   8.,   8.,  13.,\n",
       "          9.,  16.,  11.,  15.,  13.,  18.,  22.,   9.,  12.,  12.,  12.,\n",
       "          6.,   9.,   3.,   4.,   3.,   3.,   0.,   2.,   2.,   8.,  20.,\n",
       "         47.,  58.,  39.,  37.,  34.,  34.,  24.,  18.,  23.,  14.,   5.,\n",
       "          8.,   5.,   3.,   6.,   5.,   1.,   3.,   1.,   1.,   0.,   1.,\n",
       "          5.,  15.,  15.,  34.,  23.,  27.,  25.,  26.,  16.,  21.,  19.,\n",
       "          2.,   8.,   3.,   8.,   6.,   6.,   0.,   1.,   2.,   0.,   0.,\n",
       "          3.,   0.,   8.,   5.,  19.,  30.,  21.,  19.,  23.,  24.,  22.,\n",
       "         21.,  16.,  14.,   9.,   5.,   8.,   6.,   6.,   1.,   0.,   0.,\n",
       "          0.,   0.,   0.,   0.,   7.,   8.,  19.,  31.,  23.,  37.,  32.,\n",
       "         27.,  22.,  29.,  18.,  11.,   9.,   3.,   7.,   6.,   5.,   2.,\n",
       "          2.,   1.,   1.,   3.,   1.,   7.,   5.,  16.,  23.,  32.,  33.,\n",
       "         15.,  29.,  32.,  23.,  29.,  24.,   9.,   4.,   5.,   3.,   2.,\n",
       "          3.,   0.,   2.,   0.,   0.,   0.,   0.,   1.,   1.,   9.,   6.,\n",
       "          7.,  13.,   5.,  16.,  12.,   7.,   5.,  12.,   7.,   5.,   1.,\n",
       "          4.,   3.,   3.],\n",
       "       [  0.,   0.,   0.,   0.,   0.,   1.,   0.,   0.,   0.,   0.,   1.,\n",
       "          6.,   3.,   2.,   1.,   1.,   2.,   0.,   0.,   0.,   0.,   0.,\n",
       "          0.,   0.,   0.,   0.,   0.,   0.,   0.,   0.,   0.,   0.,   1.,\n",
       "          0.,   2.,   1.,   0.,   0.,   1.,   2.,   1.,   3.,   0.,   0.,\n",
       "          0.,   0.,   2.,   0.,   0.,   0.,   0.,   0.,   0.,   0.,   0.,\n",
       "          0.,   0.,   1.,   2.,   1.,   0.,   0.,   0.,   1.,   1.,   2.,\n",
       "          1.,   0.,   0.,   0.,   0.,   0.,   0.,   0.,   0.,   0.,   0.,\n",
       "          0.,   0.,   2.,   0.,   0.,   2.,   3.,   0.,   1.,   0.,   3.,\n",
       "          2.,   0.,   0.,   1.,   0.,   1.,   0.,   0.,   0.,   0.,   0.,\n",
       "          0.,   0.,   0.,   0.,   0.,   0.,   0.,   0.,   2.,   2.,   1.,\n",
       "          0.,   1.,   2.,   0.,   0.,   2.,   0.,   0.,   0.,   0.,   0.,\n",
       "          0.,   1.,   0.,   0.,   0.,   0.,   0.,   0.,   1.,   2.,   0.,\n",
       "          2.,   0.,   2.,   1.,   0.,   0.,   0.,   0.,   0.,   0.,   0.,\n",
       "          0.,   1.,   0.,   0.,   0.,   0.,   0.,   0.,   0.,   1.,   0.,\n",
       "          1.,   1.,   2.,   1.,   0.,   2.,   3.,   1.,   3.,   0.,   1.,\n",
       "          0.,   0.,   0.],\n",
       "       [  0.,   2.,   0.,   2.,   0.,   1.,   0.,   4.,   4.,   4.,   0.,\n",
       "          6.,   0.,   3.,   0.,   6.,   4.,   6.,   3.,   2.,   0.,   1.,\n",
       "          1.,   1.,   1.,   0.,   1.,   0.,   3.,   0.,   1.,   0.,   7.,\n",
       "         14.,   7.,   3.,   6.,   1.,   5.,   4.,   1.,   2.,   2.,   1.,\n",
       "          0.,   2.,   0.,   0.,   0.,   0.,   0.,   0.,   0.,   0.,   1.,\n",
       "          1.,   7.,   2.,   2.,  10.,   6.,   2.,   5.,   0.,   2.,   0.,\n",
       "          0.,   1.,   0.,   0.,   1.,   1.,   0.,   0.,   0.,   0.,   0.,\n",
       "          1.,   0.,   1.,   5.,   3.,   1.,   4.,   0.,   0.,   2.,   2.,\n",
       "          0.,   2.,   1.,   0.,   0.,   1.,   0.,   0.,   1.,   0.,   0.,\n",
       "          0.,   0.,   0.,   0.,   1.,   0.,   2.,   4.,   2.,   5.,   0.,\n",
       "          1.,   0.,   0.,   2.,   0.,   0.,   0.,   1.,   0.,   0.,   0.,\n",
       "          0.,   0.,   0.,   0.,   0.,   0.,   1.,   0.,   1.,   4.,   3.,\n",
       "          1.,   4.,   3.,   3.,   3.,   1.,   1.,   1.,   1.,   1.,   0.,\n",
       "          0.,   0.,   0.,   0.,   1.,   3.,   2.,   2.,   0.,   3.,   4.,\n",
       "          2.,   3.,   3.,   3.,   6.,   5.,   5.,   2.,   1.,   4.,   4.,\n",
       "          2.,   0.,   0.],\n",
       "       [  0.,   0.,   0.,   0.,   0.,   0.,   0.,   1.,   3.,   7.,   5.,\n",
       "          7.,   9.,   3.,  12.,  10.,   7.,   3.,   3.,   1.,   1.,   1.,\n",
       "          0.,   1.,   0.,   0.,   0.,   0.,   0.,   1.,   0.,   1.,   3.,\n",
       "          3.,   5.,   6.,   6.,   4.,   6.,   2.,   1.,   7.,   5.,   1.,\n",
       "          0.,   1.,   1.,   1.,   0.,   0.,   0.,   0.,   0.,   0.,   0.,\n",
       "          0.,   1.,   3.,   2.,   3.,   1.,   3.,   4.,   3.,   3.,   3.,\n",
       "          3.,   4.,   3.,   0.,   1.,   4.,   1.,   0.,   0.,   0.,   0.,\n",
       "          1.,   0.,   3.,   1.,   3.,   3.,   3.,   1.,   3.,   1.,   0.,\n",
       "          2.,   5.,   0.,   0.,   1.,   0.,   0.,   1.,   2.,   0.,   0.,\n",
       "          0.,   0.,   0.,   0.,   2.,   4.,   2.,   2.,   2.,   2.,   1.,\n",
       "          3.,   1.,   5.,   4.,   0.,   3.,   4.,   2.,   2.,   2.,   1.,\n",
       "          0.,   0.,   0.,   1.,   1.,   1.,   0.,   1.,   1.,   1.,   3.,\n",
       "          0.,   6.,   4.,   3.,   8.,   4.,   2.,   1.,   0.,   0.,   1.,\n",
       "          1.,   0.,   0.,   0.,   1.,   0.,   0.,   0.,   2.,   6.,   2.,\n",
       "          1.,   2.,   3.,   5.,   4.,   5.,   8.,   2.,   4.,   1.,   2.,\n",
       "          0.,   0.,   0.]])"
      ]
     },
     "execution_count": 117,
     "metadata": {},
     "output_type": "execute_result"
    }
   ],
   "source": [
    "products_freq[1:5].view()"
   ]
  }
 ],
 "metadata": {
  "kernelspec": {
   "display_name": "Python 2",
   "language": "python",
   "name": "python2"
  },
  "language_info": {
   "codemirror_mode": {
    "name": "ipython",
    "version": 2
   },
   "file_extension": ".py",
   "mimetype": "text/x-python",
   "name": "python",
   "nbconvert_exporter": "python",
   "pygments_lexer": "ipython2",
   "version": "2.7.13"
  }
 },
 "nbformat": 4,
 "nbformat_minor": 2
}
