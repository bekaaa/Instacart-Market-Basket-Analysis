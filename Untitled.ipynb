{
 "cells": [
  {
   "cell_type": "code",
   "execution_count": 8,
   "metadata": {},
   "outputs": [
    {
     "name": "stderr",
     "output_type": "stream",
     "text": [
      "IOPub data rate exceeded.\n",
      "The notebook server will temporarily stop sending output\n",
      "to the client in order to avoid crashing it.\n",
      "To change this limit, set the config variable\n",
      "`--NotebookApp.iopub_data_rate_limit`.\n"
     ]
    }
   ],
   "source": [
    "import pandas as pd\n",
    "import numpy as np\n",
    "import pickle\n",
    "\n",
    "import plotly.offline as py\n",
    "import plotly.figure_factory as ff\n",
    "import plotly.graph_objs as go\n",
    "py.init_notebook_mode()\n",
    "from IPython.core.interactiveshell import InteractiveShell\n",
    "InteractiveShell.ast_node_interactivity = 'last_expr'\n",
    "from IPython.terminal.interactiveshell import TerminalInteractiveShell\n",
    "TerminalInteractiveShell.editor = \" /opt/sublime_text_3/sublime.py\""
   ]
  },
  {
   "cell_type": "code",
   "execution_count": 3,
   "metadata": {},
   "outputs": [],
   "source": [
    "files_names = [\"aisles\",\n",
    "                \"departments\",\n",
    "                \"order_products__prior\",\n",
    "                \"orders\",\n",
    "                \"products\",\n",
    "                \"sample_submission\"\n",
    "                ]\n",
    "for name in files_names :\n",
    "    exec( \"DA_{0} = pd.read_csv('./data/{0}.csv')\".format(name) )"
   ]
  },
  {
   "cell_type": "code",
   "execution_count": null,
   "metadata": {},
   "outputs": [],
   "source": [
    "products_freq = pd.DataFrame(columns=np.arange(0,168),\n",
    "                             index=np.arange(1,49689),\n",
    "                             data=np.full([49688,168],0) )"
   ]
  },
  {
   "cell_type": "code",
   "execution_count": null,
   "metadata": {},
   "outputs": [],
   "source": [
    "inittime = np.datetime64('now')\n",
    "for product_id in np.arange(1000,1010): #49689) :\n",
    "    orders_ids = DA_order_products__prior[ DA_order_products__prior.product_id == product_id ].order_id\n",
    "    if len(orders_ids) > 100 :\n",
    "        for order_id in orders_ids :\n",
    "            order = DA_orders[ DA_orders.order_id == 33692 ].iloc[0]\n",
    "            col_index = ( order.order_dow * 24 ) + order.order_hour_of_day\n",
    "            old_val = products_freq.get_value(col=col_index,index=product_id)\n",
    "            products_freq.set_value( col = col_index, index = product_id ,value = old_val + 1 )\n",
    "print  np.datetime64('now') -  inittime \n",
    "        "
   ]
  },
  {
   "cell_type": "code",
   "execution_count": 116,
   "metadata": {},
   "outputs": [],
   "source": [
    "DA_SAMPLE_orders = DA_orders.loc[1:1000]\n",
    "DA_SAMPLE_order_products_prior = DA_RESIZED_order_products__prior[1:10000]"
   ]
  },
  {
   "cell_type": "code",
   "execution_count": null,
   "metadata": {
    "collapsed": true
   },
   "outputs": [],
   "source": [
    "#table = ff.create_table(DA_orders)\n",
    "#py.iplot(table)\n",
    "#DA_order_products__prior"
   ]
  },
  {
   "cell_type": "code",
   "execution_count": null,
   "metadata": {
    "collapsed": true
   },
   "outputs": [],
   "source": []
  },
  {
   "cell_type": "code",
   "execution_count": null,
   "metadata": {},
   "outputs": [],
   "source": []
  },
  {
   "cell_type": "code",
   "execution_count": null,
   "metadata": {},
   "outputs": [],
   "source": []
  },
  {
   "cell_type": "code",
   "execution_count": null,
   "metadata": {},
   "outputs": [],
   "source": []
  },
  {
   "cell_type": "code",
   "execution_count": null,
   "metadata": {
    "collapsed": true
   },
   "outputs": [],
   "source": []
  },
  {
   "cell_type": "code",
   "execution_count": null,
   "metadata": {},
   "outputs": [],
   "source": [
    "orders_ids = DA_order_products__prior[ DA_order_products__prior.product_id == product_id ].order_id\n",
    "for order_id in orders_ids :\n",
    "        order = DA_orders[ DA_orders.order_id == 33692 ].iloc[0]\n",
    "        col_index = ( order.order_dow * 24 ) + order.order_hour_of_day\n",
    "        old_val = products_freq.get_value(col=col_index,index=product_id)\n",
    "        products_freq.set_value( col = col_index, index = product_id ,value = old_val + 1 )"
   ]
  },
  {
   "cell_type": "code",
   "execution_count": null,
   "metadata": {},
   "outputs": [],
   "source": []
  },
  {
   "cell_type": "code",
   "execution_count": null,
   "metadata": {},
   "outputs": [],
   "source": []
  },
  {
   "cell_type": "code",
   "execution_count": null,
   "metadata": {},
   "outputs": [],
   "source": [
    "counter = 0\n",
    "d = np.datetime64('now')\n",
    "for product_id in np.arange(100,200):#49689) :\n",
    "    orders_ids = DA_order_products__prior[ DA_order_products__prior.product_id == product_id ].order_id\n",
    "    if len(orders_ids) > 200 :\n",
    "        counter += 1;\n",
    "        \n",
    "print counter\n",
    "print np.datetime64('now') - d"
   ]
  },
  {
   "cell_type": "code",
   "execution_count": null,
   "metadata": {
    "collapsed": true
   },
   "outputs": [],
   "source": [
    "DA_SAMPLE_orders.apply(fun, axis=1)"
   ]
  },
  {
   "cell_type": "code",
   "execution_count": null,
   "metadata": {
    "collapsed": true
   },
   "outputs": [],
   "source": [
    "tmp = pd.DataFrame(columns = ['products_ids', 'dow', 'hod'],index=np.arange(len(DA_SAMPLE_orders)))"
   ]
  },
  {
   "cell_type": "code",
   "execution_count": null,
   "metadata": {
    "collapsed": true
   },
   "outputs": [],
   "source": [
    "counter = 2;\n",
    "def fun(d):\n",
    "    if not counter : counter = 0\n",
    "    tmp.dow.loc[counter] = d.order_dow\n",
    "    tmp.hod.loc[counter] = d.order_hour_of_day\n",
    "    tmp.products_ids.loc[counter] = DA_order_products__prior[ DA_order_products__prior.order_id == d.order_id ]['product_id']\n",
    "    counter = counter + 1\n",
    "    #tmp.products_ids =\n",
    "    #col_index = ( d.order_dow * 24 ) + d.order_hour_of_day\n",
    "    #old_val = products_freq.get_value(col=col_index,index=product_id)\n",
    "    #products_freq.set_value( col = col_index, index = product_id ,value = old_val + 1 )\n",
    "    return d"
   ]
  },
  {
   "cell_type": "code",
   "execution_count": null,
   "metadata": {},
   "outputs": [],
   "source": []
  },
  {
   "cell_type": "code",
   "execution_count": null,
   "metadata": {},
   "outputs": [],
   "source": [
    "DA_SAMPLE_orders.iloc[0]\n",
    "#DA_order_products__prior"
   ]
  },
  {
   "cell_type": "code",
   "execution_count": 44,
   "metadata": {},
   "outputs": [],
   "source": [
    "# row 0 should be empty.\n",
    "products_freq = np.zeros(shape=[49689,168])"
   ]
  },
  {
   "cell_type": "code",
   "execution_count": 14,
   "metadata": {},
   "outputs": [
    {
     "name": "stdout",
     "output_type": "stream",
     "text": [
      "191 seconds\n"
     ]
    }
   ],
   "source": [
    "global counter\n",
    "t = np.datetime64('now')\n",
    "l = [ i for i in range(1000000, 30000000,1000000) ]\n",
    "n = t\n",
    "counter = 0\n",
    "def test(d):\n",
    "    global counter\n",
    "    global n\n",
    "    counter += 1;\n",
    "    #if counter in l :\n",
    "    #    print \"{}, in {}\".format(counter,str(np.datetime64('now') - n))\n",
    "    #    n = np.datetime64('now')\n",
    "    return\n",
    "DA_order_products__prior.apply(test, axis=1)\n",
    "t = np.datetime64('now') - t\n",
    "print t"
   ]
  },
  {
   "cell_type": "code",
   "execution_count": 81,
   "metadata": {},
   "outputs": [
    {
     "name": "stdout",
     "output_type": "stream",
     "text": [
      "17 seconds\n"
     ]
    }
   ],
   "source": [
    "t = np.datetime64('now')\n",
    "def fun(product):\n",
    "    order = DA_RESIZED_orders[DA_RESIZED_orders.order_id == product.order_id]\n",
    "    #if len(order) == 0 : return \n",
    "    col_id = (order.order_dow * 24) + order.order_hour_of_day\n",
    "    products_freq[product.product_id][int(col_id)] += 1;\n",
    "    return\n",
    "\n",
    "DA_SAMPLE_order_products_prior.apply(fun, axis=1)\n",
    "    \n",
    "t = np.datetime64('now') - t\n",
    "print t    "
   ]
  },
  {
   "cell_type": "code",
   "execution_count": 37,
   "metadata": {},
   "outputs": [
    {
     "data": {
      "text/plain": [
       "0"
      ]
     },
     "execution_count": 37,
     "metadata": {},
     "output_type": "execute_result"
    }
   ],
   "source": [
    "x = 473747\n",
    "len(DA_SAMPLE_orders.query(\"order_id == \"))"
   ]
  },
  {
   "cell_type": "code",
   "execution_count": 66,
   "metadata": {},
   "outputs": [],
   "source": [
    "DA_RESIZED_order_products__prior = DA_order_products__prior.drop(['add_to_cart_order','reordered'],axis=1)\n",
    "DA_RESIZED_orders = DA_orders.drop(['user_id','eval_set','order_number','days_since_prior_order'],axis=1)"
   ]
  },
  {
   "cell_type": "code",
   "execution_count": 120,
   "metadata": {},
   "outputs": [
    {
     "name": "stdout",
     "output_type": "stream",
     "text": [
      "39 seconds\n"
     ]
    }
   ],
   "source": [
    "# will take 37 hours\n",
    "t = np.datetime64('now')\n",
    "\n",
    "def set_freq(product, col_id):\n",
    "     products_freq[product.product_id][int(col_id)] += 1;\n",
    "\n",
    "def get_products(order):\n",
    "    products= DA_RESIZED_order_products__prior[DA_RESIZED_order_products__prior.order_id == order.order_id]\n",
    "    products.apply(set_freq, col_id = (order.order_dow * 24) + order.order_hour_of_day, axis=1)\n",
    "    \n",
    "DA_SAMPLE_orders.apply(get_products, axis=1)\n",
    "    \n",
    "t = np.datetime64('now') - t\n",
    "print t   "
   ]
  },
  {
   "cell_type": "code",
   "execution_count": 4,
   "metadata": {
    "scrolled": true
   },
   "outputs": [],
   "source": [
    "filee = './data/picklefile.pkl'\n",
    "with open(filee, 'wb') as f:\n",
    "    pickle.dump(DA_orders, f)"
   ]
  },
  {
   "cell_type": "code",
   "execution_count": 5,
   "metadata": {
    "collapsed": true
   },
   "outputs": [],
   "source": [
    "with open(filee, 'rb') as f:\n",
    "    tmp = pickle.load(f)"
   ]
  },
  {
   "cell_type": "code",
   "execution_count": 7,
   "metadata": {},
   "outputs": [
    {
     "data": {
      "text/plain": [
       "pandas.core.frame.DataFrame"
      ]
     },
     "execution_count": 7,
     "metadata": {},
     "output_type": "execute_result"
    }
   ],
   "source": []
  },
  {
   "cell_type": "code",
   "execution_count": 119,
   "metadata": {},
   "outputs": [
    {
     "data": {
      "text/plain": [
       "37.060833333333335"
      ]
     },
     "execution_count": 119,
     "metadata": {},
     "output_type": "execute_result"
    }
   ],
   "source": [
    "(len(DA_RESIZED_orders)/1000) * 39.0 / 60 / 60 "
   ]
  },
  {
   "cell_type": "code",
   "execution_count": 112,
   "metadata": {},
   "outputs": [
    {
     "name": "stdout",
     "output_type": "stream",
     "text": [
      "1\n"
     ]
    }
   ],
   "source": [
    "for _,i in DA_orders.iterrows():\n",
    "    print i.user_id\n",
    "    break"
   ]
  }
 ],
 "metadata": {
  "anaconda-cloud": {},
  "kernelspec": {
   "display_name": "Python 2",
   "language": "python",
   "name": "python2"
  },
  "language_info": {
   "codemirror_mode": {
    "name": "ipython",
    "version": 2
   },
   "file_extension": ".py",
   "mimetype": "text/x-python",
   "name": "python",
   "nbconvert_exporter": "python",
   "pygments_lexer": "ipython2",
   "version": "2.7.13"
  }
 },
 "nbformat": 4,
 "nbformat_minor": 2
}
