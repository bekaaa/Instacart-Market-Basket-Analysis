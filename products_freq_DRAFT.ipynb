{
 "cells": [
  {
   "cell_type": "code",
   "execution_count": null,
   "metadata": {},
   "outputs": [],
   "source": [
    "import pandas as pd\n",
    "import numpy as np\n",
    "import pickle\n",
    "pd.options.mode.chained_assignment = None  # default='warn'\n",
    "\n",
    "from IPython.core.interactiveshell import InteractiveShell\n",
    "InteractiveShell.ast_node_interactivity = 'last_expr'"
   ]
  },
  {
   "cell_type": "code",
   "execution_count": null,
   "metadata": {
    "collapsed": true
   },
   "outputs": [],
   "source": [
    "# store data files in  variables. all named DA_$file_name\n",
    "data_files = [\"aisles\",\n",
    "                \"departments\",\n",
    "                \"order_products__prior\",\n",
    "                \"orders\",\n",
    "                \"products\",\n",
    "                \"sample_submission\"\n",
    "                ]\n",
    "for file_name in data_files :\n",
    "    exec( \"DA_{0} = pd.read_csv('./data/{0}.csv')\".format(file_name) )\n",
    "\n",
    "# keep the columns i'm interested in only to reduce size.\n",
    "#DA_RESIZED_order_products__prior = DA_order_products__prior.drop(['add_to_cart_order','reordered'],axis=1)\n",
    "#DA_RESIZED_orders = DA_orders.drop(['user_id','eval_set','order_number','days_since_prior_order'],axis=1)\n",
    "# and take sample for testing.    \n",
    "#DA_SAMPLE_orders = DA_orders.loc[1:1000]\n",
    "#DA_SAMPLE_order_products_prior = DA_RESIZED_order_products__prior[1:10000]"
   ]
  },
  {
   "cell_type": "code",
   "execution_count": null,
   "metadata": {
    "collapsed": true
   },
   "outputs": [],
   "source": [
    "# row 0 should be empty.\n",
    "# 1 to 49688 product rows\n",
    "# 0 to 167 scores columns by hour, computed by : day * 24 + hour\n",
    "#\twhere \"day\" in range 0 to 6 , and hour in range 0 to 23.\n",
    "products_freq = np.zeros(shape=[49689,168])"
   ]
  },
  {
   "cell_type": "code",
   "execution_count": null,
   "metadata": {},
   "outputs": [],
   "source": [
    "# will take 37 hours\n",
    "t = np.datetime64('now')\n",
    "\n",
    "def set_freq(product, col_id):\n",
    "     products_freq[product.product_id][int(col_id)] += 1;\n",
    "\n",
    "def get_products(order):\n",
    "    products= DA_RESIZED_order_products__prior[DA_RESIZED_order_products__prior.order_id == order.order_id]\n",
    "    products.apply(set_freq, col_id = (order.order_dow * 24) + order.order_hour_of_day, axis=1)\n",
    "    \n",
    "DA_SAMPLE_orders.apply(get_products, axis=1)\n",
    "    \n",
    "t = np.datetime64('now') - t\n",
    "print t   "
   ]
  },
  {
   "cell_type": "code",
   "execution_count": null,
   "metadata": {
    "scrolled": true
   },
   "outputs": [],
   "source": [
    "# reading/writing to/from pickle files.\n",
    "pickle_file = './data/product_freq5.pkl'\n",
    "pickle_file_backup = './data/backup/product_freq5.pkl.backup'\n",
    "with open(pickle_file, 'wb') as f:\n",
    "    pickle.dump(products_freq, f)\n",
    "with open(pickle_file_backup, 'wb') as f:\n",
    "    pickle.dump(products_freq, f)\n",
    "#with open(filee, 'rb') as f:\n",
    "#    tmp = pickle.load(f)"
   ]
  },
  {
   "cell_type": "code",
   "execution_count": null,
   "metadata": {
    "scrolled": false
   },
   "outputs": [],
   "source": [
    "#products_S = DA_order_products__prior.query(\"product_id <= 1000\")\n",
    "#orders_S = DA_orders[DA_orders.order_id.isin(products_S.order_id)]\n",
    "\n",
    "orders_S = DA_orders[DA_orders.user_id.isin(range(10001,50000))]\n",
    "products_S = DA_order_products__prior[ DA_order_products__prior.order_id.isin(orders_S.order_id) ]\n",
    "\n",
    "orders_S.drop(['user_id','eval_set','order_number','days_since_prior_order'],axis=1,inplace=1)\n",
    "products_S.drop(['add_to_cart_order','reordered'],axis=1,inplace=1)"
   ]
  },
  {
   "cell_type": "code",
   "execution_count": null,
   "metadata": {},
   "outputs": [],
   "source": [
    "products_freq_backup = products_freq.copy()"
   ]
  },
  {
   "cell_type": "code",
   "execution_count": null,
   "metadata": {},
   "outputs": [],
   "source": [
    "# will take 37 hours\n",
    "t = np.datetime64('now')\n",
    "\n",
    "def set_freq(product, col_id):\n",
    "     products_freq[product.product_id][int(col_id)] += 1;\n",
    "\n",
    "def get_products(order):\n",
    "    products= products_S[products_S.order_id == order.order_id]\n",
    "    products.apply(set_freq, col_id = (order.order_dow * 24) + order.order_hour_of_day, axis=1)\n",
    "    \n",
    "orders_S.apply(get_products, axis=1)\n",
    "    \n",
    "t = np.datetime64('now') - t\n",
    "print t   "
   ]
  },
  {
   "cell_type": "code",
   "execution_count": null,
   "metadata": {},
   "outputs": [],
   "source": [
    "range(10001,50000)[-1]"
   ]
  },
  {
   "cell_type": "code",
   "execution_count": null,
   "metadata": {
    "scrolled": false
   },
   "outputs": [],
   "source": [
    "tt = np.datetime64('now');\n",
    "step = 1000\n",
    "for i in range(200000,207000,step):\n",
    "    t = np.datetime64('now');\n",
    "    \n",
    "    orders_S = DA_orders[DA_orders.user_id.isin(range(i,i+step))]\n",
    "    if len(orders_S) == 0 :\n",
    "        print \"finished\";\n",
    "        break;\n",
    "    products_S = DA_order_products__prior[ DA_order_products__prior.order_id.isin(orders_S.order_id) ]\n",
    "\n",
    "    orders_S.drop(['user_id','eval_set','order_number','days_since_prior_order'],axis=1,inplace=1)\n",
    "    products_S.drop(['add_to_cart_order','reordered'],axis=1,inplace=1)\n",
    "    \n",
    "    \n",
    "    #***************************************************************\n",
    "    def set_freq(product, col_id):\n",
    "        products_freq[product.product_id][int(col_id)] += 1;\n",
    "\n",
    "    def get_products(order):\n",
    "        products= products_S[products_S.order_id == order.order_id]\n",
    "        products.apply(set_freq, col_id = (order.order_dow * 24) + order.order_hour_of_day, axis=1)\n",
    "    \n",
    "    orders_S.apply(get_products, axis=1)\n",
    "    #*************************************************************\n",
    "    \n",
    "    t = np.datetime64('now') - t\n",
    "    t = int(str(t).split(' ')[0])\n",
    "    print  \"\\n* completed from {0} to {1}, with #orders = {2},#products = {3},\\\n",
    " time_in_sec = {4}/ in minutes = {5}.\".format(i, i+step-1, len(orders_S), len(products_S), t, t/60.0)\n",
    "    \n",
    "tt = np.datetime64('now') - tt;\n",
    "tt = int(str(tt).split(' ')[0])\n",
    "print \"\\n\\n* total time in seconds : {0} or in minutes: {1}\".format(tt, tt/60.0)"
   ]
  },
  {
   "cell_type": "code",
   "execution_count": null,
   "metadata": {},
   "outputs": [],
   "source": [
    "t = np.datetime64('now') - t"
   ]
  },
  {
   "cell_type": "code",
   "execution_count": null,
   "metadata": {},
   "outputs": [],
   "source": [
    "int(str(t).split(' ')[0])"
   ]
  },
  {
   "cell_type": "code",
   "execution_count": null,
   "metadata": {
    "scrolled": true
   },
   "outputs": [],
   "source": [
    "140000+1000"
   ]
  },
  {
   "cell_type": "code",
   "execution_count": null,
   "metadata": {},
   "outputs": [],
   "source": [
    "log_file = \"./data/log\"\n",
    "logg = open(log_file, 'w')\n"
   ]
  },
  {
   "cell_type": "code",
   "execution_count": null,
   "metadata": {},
   "outputs": [],
   "source": [
    "len(products_freq_backup[0])"
   ]
  },
  {
   "cell_type": "code",
   "execution_count": null,
   "metadata": {},
   "outputs": [],
   "source": [
    "DA_orders"
   ]
  },
  {
   "cell_type": "code",
   "execution_count": null,
   "metadata": {
    "collapsed": true
   },
   "outputs": [],
   "source": []
  }
 ],
 "metadata": {
  "anaconda-cloud": {},
  "kernelspec": {
   "display_name": "Python 2",
   "language": "python",
   "name": "python2"
  },
  "language_info": {
   "codemirror_mode": {
    "name": "ipython",
    "version": 2
   },
   "file_extension": ".py",
   "mimetype": "text/x-python",
   "name": "python",
   "nbconvert_exporter": "python",
   "pygments_lexer": "ipython2",
   "version": "2.7.13"
  }
 },
 "nbformat": 4,
 "nbformat_minor": 2
}
