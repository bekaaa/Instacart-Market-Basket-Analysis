{
 "cells": [
  {
   "cell_type": "code",
   "execution_count": null,
   "metadata": {},
   "outputs": [],
   "source": [
    "import pandas as pd\n",
    "import numpy as np\n",
    "import pickle\n",
    "import pandas_profiling as pd_prof\n",
    "from sklearn.preprocessing import scale, MinMaxScaler\n",
    "%load_ext autoreload\n",
    "%autoreload 2\n",
    "from per_user_product_freq_v2   import user_product_freq\n",
    "from predict import predict\n",
    "\n",
    "pd.options.mode.chained_assignment = 'warn' \n",
    "\n",
    "from IPython.core.interactiveshell import InteractiveShell\n",
    "InteractiveShell.ast_node_interactivity = 'last_expr'"
   ]
  },
  {
   "cell_type": "code",
   "execution_count": 3,
   "metadata": {
    "collapsed": true
   },
   "outputs": [],
   "source": [
    "# store data files in  variables. all named DA_$file_name\n",
    "data_files = [#\"aisles\",\n",
    "               # \"departments\",\n",
    "                \"order_products__prior\",\n",
    "                #\"orders\",\n",
    "                #\"products\",\n",
    "                #\"sample_submission\"\n",
    "                ]\n",
    "for file_name in data_files :\n",
    "    exec( \"DA_{0} = pd.read_csv('./data/{0}.csv')\".format(file_name) )\n"
   ]
  },
  {
   "cell_type": "code",
   "execution_count": null,
   "metadata": {
    "collapsed": true
   },
   "outputs": [],
   "source": [
    "with open('./data/pickles/product_freq_df.pkl', 'rb') as f:\n",
    "    products_freq = pickle.load(f);"
   ]
  },
  {
   "cell_type": "code",
   "execution_count": null,
   "metadata": {
    "collapsed": true
   },
   "outputs": [],
   "source": [
    "# using pandas profile Report lib. \n",
    "#profile = pd_prof.ProfileReport(DA_departments)\n",
    "#profile.to_file('./departments_profile_report.html')"
   ]
  },
  {
   "cell_type": "code",
   "execution_count": null,
   "metadata": {
    "collapsed": true,
    "scrolled": true
   },
   "outputs": [],
   "source": [
    "user_id = 3\n",
    "orders = DA_orders[DA_orders.user_id == user_id];\n",
    "products = DA_order_products__prior[DA_order_products__prior.order_id.isin(orders.order_id)];\n",
    "user_freq = user_product_freq(orders, products)"
   ]
  },
  {
   "cell_type": "code",
   "execution_count": null,
   "metadata": {},
   "outputs": [],
   "source": [
    "#norm_user_freq = user_freq.apply(lambda d: d - np.median(d) / d.max(),axis=1)\n",
    "norm_product_freq = products_freq.apply(lambda d: d - np.median(d) / d.max(),axis=1)"
   ]
  },
  {
   "cell_type": "code",
   "execution_count": null,
   "metadata": {
    "collapsed": true
   },
   "outputs": [],
   "source": [
    "tmp = np.array([[1, 5, 1000, 2],[0, 0, 2, 0],[3, 3, 3, 3]],dtype=float).transpose()"
   ]
  },
  {
   "cell_type": "code",
   "execution_count": null,
   "metadata": {},
   "outputs": [],
   "source": [
    "n = pd.Series([1,1,1,2,3,3,4])\n",
    "#n = products_freq[1].nlargest(5)\n",
    "list(n.index)"
   ]
  },
  {
   "cell_type": "code",
   "execution_count": null,
   "metadata": {},
   "outputs": [],
   "source": [
    "def fun(d):\n",
    "    global hour\n",
    "    hour = 0\n",
    "    def fun2(e,prod):\n",
    "        global hour\n",
    "        e = products_freq[hour][prod]\n",
    "        hour += 1;\n",
    "        return e\n",
    "    \n",
    "    d = d.apply(fun2,prod=d.name)\n",
    "    return d\n",
    "    \n",
    "b = products_freq.apply(fun,axis=1)\n",
    "#s = products_freq.loc[2]\n",
    "#s"
   ]
  },
  {
   "cell_type": "code",
   "execution_count": null,
   "metadata": {
    "collapsed": true
   },
   "outputs": [],
   "source": [
    "scaler = MinMaxScaler(feature_range=[0,2])\n",
    "scaler.fit_transform(tmp[:,2])"
   ]
  },
  {
   "cell_type": "code",
   "execution_count": 2,
   "metadata": {
    "scrolled": false
   },
   "outputs": [],
   "source": [
    "p = predict([3])"
   ]
  },
  {
   "cell_type": "code",
   "execution_count": null,
   "metadata": {},
   "outputs": [],
   "source": [
    "orders_list = [2]\n",
    "product_freqq = products_freq.apply(lambda d: (d - np.median(d)) / d.max(), axis=1)\n",
    "A_orders    = DA_orders[ DA_orders.order_id.isin(orders_list) ]\n",
    "A_products  = DA_order_products__prior[ DA_order_products__prior.order_id.isin(orders_list) ]\n"
   ]
  },
  {
   "cell_type": "code",
   "execution_count": null,
   "metadata": {},
   "outputs": [],
   "source": [
    "p[int(o.order_id)] = idd"
   ]
  },
  {
   "cell_type": "code",
   "execution_count": 5,
   "metadata": {},
   "outputs": [
    {
     "ename": "KeyError",
     "evalue": "2",
     "output_type": "error",
     "traceback": [
      "\u001b[0;31m---------------------------------------------------------------------------\u001b[0m",
      "\u001b[0;31mKeyError\u001b[0m                                  Traceback (most recent call last)",
      "\u001b[0;32m<ipython-input-5-302bcf3fa2cc>\u001b[0m in \u001b[0;36m<module>\u001b[0;34m()\u001b[0m\n\u001b[0;32m----> 1\u001b[0;31m \u001b[0;32mprint\u001b[0m \u001b[0mnp\u001b[0m\u001b[0;34m.\u001b[0m\u001b[0msort\u001b[0m\u001b[0;34m(\u001b[0m\u001b[0mp\u001b[0m\u001b[0;34m[\u001b[0m\u001b[0;36m2\u001b[0m\u001b[0;34m]\u001b[0m\u001b[0;34m)\u001b[0m\u001b[0;34m\u001b[0m\u001b[0m\n\u001b[0m\u001b[1;32m      2\u001b[0m \u001b[0;32mprint\u001b[0m \u001b[0mnp\u001b[0m\u001b[0;34m.\u001b[0m\u001b[0msort\u001b[0m\u001b[0;34m(\u001b[0m\u001b[0mw\u001b[0m\u001b[0;34m)\u001b[0m\u001b[0;34m\u001b[0m\u001b[0m\n",
      "\u001b[0;31mKeyError\u001b[0m: 2"
     ]
    }
   ],
   "source": [
    "print np.sort(p[2])\n",
    "print np.sort(w)"
   ]
  },
  {
   "cell_type": "code",
   "execution_count": 4,
   "metadata": {},
   "outputs": [],
   "source": [
    "w = DA_order_products__prior[DA_order_products__prior.order_id == 3].product_id"
   ]
  },
  {
   "cell_type": "code",
   "execution_count": null,
   "metadata": {
    "collapsed": true
   },
   "outputs": [],
   "source": [
    "p = user_product_freq(1)"
   ]
  },
  {
   "cell_type": "code",
   "execution_count": 12,
   "metadata": {},
   "outputs": [
    {
     "data": {
      "text/plain": [
       "[24852,\n",
       " 13176,\n",
       " 21137,\n",
       " 21903,\n",
       " 47209,\n",
       " 27845,\n",
       " 16797,\n",
       " 39275,\n",
       " 22935,\n",
       " 49683,\n",
       " 5876,\n",
       " 4605]"
      ]
     },
     "execution_count": 12,
     "metadata": {},
     "output_type": "execute_result"
    }
   ],
   "source": [
    "list(p[3])"
   ]
  },
  {
   "cell_type": "code",
   "execution_count": 10,
   "metadata": {},
   "outputs": [
    {
     "data": {
      "text/plain": [
       "[21903]"
      ]
     },
     "execution_count": 10,
     "metadata": {},
     "output_type": "execute_result"
    }
   ],
   "source": [
    "[ i for i in w if i in p[3] ]"
   ]
  }
 ],
 "metadata": {
  "kernelspec": {
   "display_name": "Python 2",
   "language": "python",
   "name": "python2"
  },
  "language_info": {
   "codemirror_mode": {
    "name": "ipython",
    "version": 2
   },
   "file_extension": ".py",
   "mimetype": "text/x-python",
   "name": "python",
   "nbconvert_exporter": "python",
   "pygments_lexer": "ipython2",
   "version": "2.7.13"
  }
 },
 "nbformat": 4,
 "nbformat_minor": 2
}
