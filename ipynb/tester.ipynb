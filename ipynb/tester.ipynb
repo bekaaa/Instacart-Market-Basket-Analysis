{
 "cells": [
  {
   "cell_type": "code",
   "execution_count": 4,
   "metadata": {
    "collapsed": true
   },
   "outputs": [],
   "source": [
    "#import pandas as pd\n",
    "#import numpy as np\n",
    "#from multiprocessing import Process\n",
    "import pickle\n",
    "#import random\n",
    "#import pandas_profiling as pd_prof\n",
    "#from per_user_product_freq import user_product_freq\n",
    "#import log\n",
    "\n",
    "\n",
    "#%load_ext autoreload\n",
    "#%autoreload 2\n",
    "#pd.options.mode.chained_assignment = 'warn' \n",
    "#from IPython.core.interactiveshell import InteractiveShell\n",
    "#InteractiveShell.ast_node_interactivity = 'last_expr'"
   ]
  },
  {
   "cell_type": "code",
   "execution_count": null,
   "metadata": {
    "collapsed": true
   },
   "outputs": [],
   "source": [
    "# store data files in  variables. all named DA_$file_name\n",
    "data_files = [#\"aisles\",\n",
    "              #\"departments\",\n",
    "              \"order_products__prior\",\n",
    "              #\"order_products__train\",\n",
    "              \"orders\",\n",
    "              #\"products\",\n",
    "              #\"sample_submission\"\n",
    "              ]\n",
    "for file_name in data_files :\n",
    "    exec( \"DA_{0} = pd.read_csv('./data/{0}.csv')\".format(file_name) )\n"
   ]
  },
  {
   "cell_type": "code",
   "execution_count": 2,
   "metadata": {
    "collapsed": true
   },
   "outputs": [],
   "source": [
    "filename = './data/ML/model0.pkl'\n",
    "with open(filename, 'rb') as f:\n",
    "\tmodel     = pickle.load(f)\n",
    "DA_orders     = pd.read_csv('./data/orders.csv')\n",
    "DA_products   = pd.read_csv('./data/order_products__prior.csv')\n",
    "products_freq = pd.read_csv('./data/products_freq.csv', index_col='Unnamed: 0')\n",
    "\n",
    "products_freq  = products_freq.apply(lambda d : ( d + d.mean() ) / d.max(), axis=0 )"
   ]
  },
  {
   "cell_type": "code",
   "execution_count": null,
   "metadata": {
    "collapsed": true
   },
   "outputs": [],
   "source": []
  },
  {
   "cell_type": "code",
   "execution_count": null,
   "metadata": {
    "collapsed": true
   },
   "outputs": [],
   "source": []
  },
  {
   "cell_type": "code",
   "execution_count": null,
   "metadata": {
    "collapsed": true
   },
   "outputs": [],
   "source": []
  },
  {
   "cell_type": "code",
   "execution_count": null,
   "metadata": {
    "collapsed": true
   },
   "outputs": [],
   "source": []
  },
  {
   "cell_type": "code",
   "execution_count": null,
   "metadata": {
    "collapsed": true
   },
   "outputs": [],
   "source": []
  },
  {
   "cell_type": "code",
   "execution_count": null,
   "metadata": {
    "collapsed": true
   },
   "outputs": [],
   "source": [
    "    "
   ]
  },
  {
   "cell_type": "code",
   "execution_count": 7,
   "metadata": {},
   "outputs": [],
   "source": [
    "with open('./data/ML/model2.pkl', 'rb') as f:\n",
    "    model = pickle.load(f)"
   ]
  },
  {
   "cell_type": "code",
   "execution_count": 10,
   "metadata": {},
   "outputs": [
    {
     "data": {
      "text/plain": [
       "[(0, 0.016826924),\n",
       " (1, 0.011217949),\n",
       " (2, 0.009615385),\n",
       " (6, 0.008012821),\n",
       " (11, 0.012820513),\n",
       " (15, 0.008012821),\n",
       " (18, 0.010416667),\n",
       " (26, 0.011217949),\n",
       " (28, 0.014423077),\n",
       " (31, 0.009615385),\n",
       " (35, 0.012820513),\n",
       " (40, 0.008012821),\n",
       " (43, 0.010416667),\n",
       " (47, 0.013621795),\n",
       " (55, 0.008814103),\n",
       " (60, 0.011217949),\n",
       " (61, 0.008814103),\n",
       " (62, 0.009615385),\n",
       " (64, 0.012820513),\n",
       " (65, 0.008814103),\n",
       " (72, 0.012019231),\n",
       " (76, 0.009615385),\n",
       " (86, 0.008814103),\n",
       " (88, 0.008814103),\n",
       " (96, 0.008814103),\n",
       " (111, 0.012820513),\n",
       " (112, 0.012019231),\n",
       " (113, 0.016826924),\n",
       " (119, 0.011217949),\n",
       " (134, 0.024839744),\n",
       " (136, 0.010416667),\n",
       " (138, 0.012820513),\n",
       " (140, 0.009615385),\n",
       " (141, 0.011217949),\n",
       " (144, 0.010416667),\n",
       " (146, 0.017628206),\n",
       " (148, 0.013621795),\n",
       " (163, 0.010416667),\n",
       " (166, 0.008814103),\n",
       " (167, 0.012019231)]"
      ]
     },
     "execution_count": 10,
     "metadata": {},
     "output_type": "execute_result"
    }
   ],
   "source": [
    "fimp = []\n",
    "for k,v in zip(range(168), model.feature_importances_):\n",
    "    fimp.append((k,v))\n",
    "\n",
    "fimp.sort(key = lambda d: d[1], reverse=True)\n",
    "tm = fimp[0:40]\n",
    "tm.sort(key = lambda d:d[0])\n",
    "tm"
   ]
  },
  {
   "cell_type": "code",
   "execution_count": 32,
   "metadata": {},
   "outputs": [
    {
     "data": {
      "text/plain": [
       "0.57896827161397024"
      ]
     },
     "execution_count": 32,
     "metadata": {},
     "output_type": "execute_result"
    }
   ],
   "source": [
    "model.train_score_.mean()"
   ]
  },
  {
   "cell_type": "code",
   "execution_count": 2,
   "metadata": {
    "collapsed": true
   },
   "outputs": [],
   "source": [
    "from xgboost import XGBClassifier"
   ]
  },
  {
   "cell_type": "code",
   "execution_count": 8,
   "metadata": {},
   "outputs": [
    {
     "data": {
      "text/plain": [
       "<bound method XGBClassifier.get_params of XGBClassifier(base_score=0.5, booster='gbtree', colsample_bylevel=1,\n",
       "       colsample_bytree=0.95, eval_metric='logloss', gamma=0.7,\n",
       "       learning_rate=0.1, max_delta_step=0, max_depth=6,\n",
       "       min_child_weight=10, missing=nan, n_estimators=100, n_jobs=1,\n",
       "       nthread=None, objective='reg:logistic', random_state=40,\n",
       "       reg_alpha=2e-05, reg_lambda=10, scale_pos_weight=1, seed=None,\n",
       "       silent=True, subsample=0.76)>"
      ]
     },
     "execution_count": 8,
     "metadata": {},
     "output_type": "execute_result"
    }
   ],
   "source": [
    "model.get_params"
   ]
  },
  {
   "cell_type": "code",
   "execution_count": 20,
   "metadata": {},
   "outputs": [],
   "source": [
    "try :\n",
    "\tf = os.listdir('./data/ML')\n",
    "\tn = max([  int(i.split('model')[1].split('.pkl')[0]) for i in f if 'model' in i ]) + 1\n",
    "except :\n",
    "\tn = 2"
   ]
  },
  {
   "cell_type": "code",
   "execution_count": 13,
   "metadata": {
    "collapsed": true
   },
   "outputs": [],
   "source": [
    "import os"
   ]
  },
  {
   "cell_type": "code",
   "execution_count": 21,
   "metadata": {},
   "outputs": [
    {
     "data": {
      "text/plain": [
       "3"
      ]
     },
     "execution_count": 21,
     "metadata": {},
     "output_type": "execute_result"
    }
   ],
   "source": [
    "n"
   ]
  },
  {
   "cell_type": "code",
   "execution_count": null,
   "metadata": {
    "collapsed": true
   },
   "outputs": [],
   "source": []
  },
  {
   "cell_type": "code",
   "execution_count": null,
   "metadata": {
    "collapsed": true
   },
   "outputs": [],
   "source": []
  },
  {
   "cell_type": "code",
   "execution_count": null,
   "metadata": {
    "collapsed": true
   },
   "outputs": [],
   "source": []
  },
  {
   "cell_type": "code",
   "execution_count": null,
   "metadata": {
    "collapsed": true
   },
   "outputs": [],
   "source": []
  },
  {
   "cell_type": "code",
   "execution_count": null,
   "metadata": {
    "collapsed": true
   },
   "outputs": [],
   "source": [
    "\"objective\"           = \"reg:logistic\",\n",
    "  \"eval_metric\"         = \"logloss\",\n",
    "  \"eta\"                 = 0.1,\n",
    "  \"max_depth\"           = 6,\n",
    "  \"min_child_weight\"    = 10,\n",
    "  \"gamma\"               = 0.70,\n",
    "  \"subsample\"           = 0.76,\n",
    "  \"colsample_bytree\"    = 0.95,\n",
    "  \"alpha\"               = 2e-05,\n",
    "  \"lambda\"              = 10"
   ]
  }
 ],
 "metadata": {
  "kernelspec": {
   "display_name": "Python 2",
   "language": "python",
   "name": "python2"
  },
  "language_info": {
   "codemirror_mode": {
    "name": "ipython",
    "version": 2
   },
   "file_extension": ".py",
   "mimetype": "text/x-python",
   "name": "python",
   "nbconvert_exporter": "python",
   "pygments_lexer": "ipython2",
   "version": "2.7.13"
  }
 },
 "nbformat": 4,
 "nbformat_minor": 2
}
