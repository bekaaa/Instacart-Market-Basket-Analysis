{
 "cells": [
  {
   "cell_type": "code",
   "execution_count": null,
   "metadata": {
    "collapsed": true
   },
   "outputs": [],
   "source": [
    "#import pandas as pd\n",
    "#import numpy as np\n",
    "#from multiprocessing import Process\n",
    "#import pickle\n",
    "#import random\n",
    "#import pandas_profiling as pd_prof\n",
    "#from sklearn.preprocessing import scale, MinMaxScaler\n",
    "#%load_ext autoreload\n",
    "#%autoreload 2\n",
    "#from per_user_product_freq_v2   import user_product_freq\n",
    "#from predict import predict\n",
    "#import predict_v2 as predict\n",
    "#pd.options.mode.chained_assignment = 'warn' \n",
    "#import log\n",
    "#from IPython.core.interactiveshell import InteractiveShell\n",
    "#InteractiveShell.ast_node_interactivity = 'last_expr'"
   ]
  },
  {
   "cell_type": "code",
   "execution_count": null,
   "metadata": {
    "collapsed": true
   },
   "outputs": [],
   "source": [
    "# store data files in  variables. all named DA_$file_name\n",
    "data_files = [#\"aisles\",\n",
    "              #\"departments\",\n",
    "              #\"order_products__prior\",\n",
    "              \"order_products__train\",\n",
    "              #\"orders\",\n",
    "              #\"products\",\n",
    "              #\"sample_submission\"\n",
    "              ]\n",
    "for file_name in data_files :\n",
    "    exec( \"DA_{0} = predict.pd.read_csv('./data/{0}.csv')\".format(file_name) )\n"
   ]
  },
  {
   "cell_type": "code",
   "execution_count": null,
   "metadata": {
    "collapsed": true
   },
   "outputs": [],
   "source": [
    "with open('./data/pickles/product_freq_df.pkl', 'rb') as f:\n",
    "    products_freq = pickle.load(f);"
   ]
  },
  {
   "cell_type": "code",
   "execution_count": null,
   "metadata": {
    "collapsed": true
   },
   "outputs": [],
   "source": [
    "DA_orders.sort_values('order_id')"
   ]
  },
  {
   "cell_type": "code",
   "execution_count": null,
   "metadata": {
    "collapsed": true,
    "scrolled": true
   },
   "outputs": [],
   "source": [
    "DA_orders[DA_orders.eval_set == 'train']"
   ]
  },
  {
   "cell_type": "code",
   "execution_count": null,
   "metadata": {
    "collapsed": true
   },
   "outputs": [],
   "source": [
    "DA_order_products__train"
   ]
  },
  {
   "cell_type": "code",
   "execution_count": null,
   "metadata": {
    "collapsed": true,
    "scrolled": true
   },
   "outputs": [],
   "source": [
    "h = predict.predict([20])"
   ]
  },
  {
   "cell_type": "code",
   "execution_count": null,
   "metadata": {
    "collapsed": true
   },
   "outputs": [],
   "source": [
    "h"
   ]
  },
  {
   "cell_type": "code",
   "execution_count": null,
   "metadata": {
    "collapsed": true
   },
   "outputs": [],
   "source": [
    "predict.DA_products[predict.DA_products.order_id == ].product_id"
   ]
  },
  {
   "cell_type": "code",
   "execution_count": null,
   "metadata": {
    "collapsed": true,
    "scrolled": true
   },
   "outputs": [],
   "source": [
    "DA_order_products__train[DA_order_products__train.order_id == 1187899].product_id"
   ]
  },
  {
   "cell_type": "code",
   "execution_count": null,
   "metadata": {
    "collapsed": true
   },
   "outputs": [],
   "source": []
  },
  {
   "cell_type": "code",
   "execution_count": null,
   "metadata": {
    "collapsed": true
   },
   "outputs": [],
   "source": [
    "predict.predict_s(1,eval_set='train')"
   ]
  },
  {
   "cell_type": "code",
   "execution_count": null,
   "metadata": {
    "collapsed": true
   },
   "outputs": [],
   "source": [
    "full_day_hours = [ 3 * 24 + i for i in range(0,23) ]"
   ]
  },
  {
   "cell_type": "code",
   "execution_count": null,
   "metadata": {
    "collapsed": true
   },
   "outputs": [],
   "source": [
    "predict.product_freq[full_day_hours]"
   ]
  },
  {
   "cell_type": "code",
   "execution_count": null,
   "metadata": {
    "collapsed": true
   },
   "outputs": [],
   "source": [
    "reload(predict)"
   ]
  },
  {
   "cell_type": "code",
   "execution_count": 81,
   "metadata": {},
   "outputs": [],
   "source": [
    "expec = products_pred[products_pred.order_id == 1524161].products\n",
    "truee = products_true[products_true.order_id == 1524161].product_id\n",
    "expec =  sorted([int(i) for i in expec.get_values()[0].split(' ')])\n",
    "#expec.append(0)\n",
    "#expec.append(0)\n",
    "#expec.append(0)\n",
    "#expec.append(0)"
   ]
  },
  {
   "cell_type": "code",
   "execution_count": 94,
   "metadata": {},
   "outputs": [
    {
     "data": {
      "text/plain": [
       "[21616,\n",
       " 41665,\n",
       " 5134,\n",
       " 26790,\n",
       " 43014,\n",
       " 12204,\n",
       " 26369,\n",
       " 2243,\n",
       " 4189,\n",
       " 6607,\n",
       " 45007,\n",
       " 41065]"
      ]
     },
     "execution_count": 94,
     "metadata": {},
     "output_type": "execute_result"
    }
   ],
   "source": [
    "#for i,j in zip(expec,truee):\n",
    "#    print i,\"\\t\",j\n",
    "#len(expec)\n",
    "#len(truee)\n",
    "#tp = sum([ 1.0 for i in truee if i in expec ])\n",
    "#prec = tp / len(truee)\n",
    "#rec = tp / len(expec)\n",
    "#2.0 * prec * rec / ( prec + rec )\n",
    "truee.tolist()"
   ]
  },
  {
   "cell_type": "code",
   "execution_count": 2,
   "metadata": {},
   "outputs": [],
   "source": [
    "\n",
    "import pandas as pd\n",
    "import numpy as np\n",
    "import pickle\n",
    "import os.path\n"
   ]
  },
  {
   "cell_type": "code",
   "execution_count": 3,
   "metadata": {},
   "outputs": [],
   "source": [
    "pred_dir = './data/output/predictions/predictions-train-20-False.csv'\n",
    "training_data_file = './data/order_products__train.csv'\n",
    "filename = pred_dir\n",
    "products_true = pd.read_csv(training_data_file)\n",
    "products_pred = pd.read_csv(filename)\n",
    "precision, recall, F1 = [], [], [];\n"
   ]
  },
  {
   "cell_type": "code",
   "execution_count": 95,
   "metadata": {},
   "outputs": [
    {
     "name": "stdout",
     "output_type": "stream",
     "text": [
      "0.25 0.166666666667 0.2 2.0\n",
      "0 0 0.0 0\n",
      "0 0 0.0 0\n",
      "0 0 0.0 0\n",
      "0.1 0.111111111111 0.105263157895 1.0\n",
      "0.166666666667 0.117647058824 0.137931034483 2.0\n",
      "0.4 0.363636363636 0.380952380952 8.0\n",
      "0 0 0.0 0\n",
      "0.125 0.0588235294118 0.08 1.0\n",
      "0.307692307692 0.129032258065 0.181818181818 4.0\n",
      "0 0 0.0 0\n",
      "0.2 0.0909090909091 0.125 1.0\n",
      "0.222222222222 0.166666666667 0.190476190476 2.0\n",
      "0.2 0.2 0.2 1.0\n",
      "0.285714285714 0.210526315789 0.242424242424 4.0\n",
      "0.0714285714286 0.0555555555556 0.0625 1.0\n",
      "0.142857142857 0.166666666667 0.153846153846 1.0\n",
      "0.4 0.181818181818 0.25 2.0\n",
      "0.222222222222 0.222222222222 0.222222222222 2.0\n",
      "0.333333333333 0.4 0.363636363636 2.0\n"
     ]
    },
    {
     "data": {
      "text/plain": [
       "0     None\n",
       "1     None\n",
       "2     None\n",
       "3     None\n",
       "4     None\n",
       "5     None\n",
       "6     None\n",
       "7     None\n",
       "8     None\n",
       "9     None\n",
       "10    None\n",
       "11    None\n",
       "12    None\n",
       "13    None\n",
       "14    None\n",
       "15    None\n",
       "16    None\n",
       "17    None\n",
       "18    None\n",
       "19    None\n",
       "dtype: object"
      ]
     },
     "execution_count": 95,
     "metadata": {},
     "output_type": "execute_result"
    },
    {
     "name": "stdout",
     "output_type": "stream",
     "text": [
      "0.171356837607 0.132064084367 0.144803496388\n"
     ]
    }
   ],
   "source": [
    "precision, recall, F1 = [], [], [];\n",
    "def update_score(product_pred):\n",
    "    order_id = product_pred.order_id\n",
    "    products = product_pred.products.split(' ')\n",
    "    #try :\n",
    "    y_predicted =[ int(i) for i in products ]\n",
    "    #except AttributeError:\n",
    "        #print products_pred.products.get_values()[0].split(' '), order_id\n",
    "    y_expected = products_true[ products_true.order_id == order_id ].product_id.tolist()\n",
    "    true_positive = sum([ 1.0 for i in y_predicted if i in y_expected  ])\n",
    "    prec = true_positive / len(y_predicted)\n",
    "    rec  = true_positive / len(y_expected)\n",
    "    try :\n",
    "        f1   = 2.0 * prec * rec / ( prec + rec )\n",
    "    except ZeroDivisionError :\n",
    "        f1 = 0.0\n",
    "    #print y_expected\n",
    "    print prec, rec, f1, true_positive\n",
    "    precision.append(prec)\n",
    "    recall.append(rec)\n",
    "    F1.append(f1)\n",
    "    return\n",
    "#update_score()\n",
    "products_pred.apply(update_score,axis=1)\n",
    "precision = np.mean(precision)\n",
    "recall    = np.mean(recall)\n",
    "F1        = np.mean(F1)\n",
    "print precision, recall, F1"
   ]
  },
  {
   "cell_type": "code",
   "execution_count": null,
   "metadata": {
    "collapsed": true
   },
   "outputs": [],
   "source": [
    "s = products_pred[products_pred.order_id ==  13318].products"
   ]
  },
  {
   "cell_type": "code",
   "execution_count": null,
   "metadata": {},
   "outputs": [],
   "source": [
    "for i in products_true[ products_true.order_id == 1651215 ].product_id:\n",
    "    print i"
   ]
  },
  {
   "cell_type": "code",
   "execution_count": null,
   "metadata": {},
   "outputs": [],
   "source": []
  }
 ],
 "metadata": {
  "kernelspec": {
   "display_name": "Python 2",
   "language": "python",
   "name": "python2"
  },
  "language_info": {
   "codemirror_mode": {
    "name": "ipython",
    "version": 2
   },
   "file_extension": ".py",
   "mimetype": "text/x-python",
   "name": "python",
   "nbconvert_exporter": "python",
   "pygments_lexer": "ipython2",
   "version": "2.7.13"
  }
 },
 "nbformat": 4,
 "nbformat_minor": 2
}
